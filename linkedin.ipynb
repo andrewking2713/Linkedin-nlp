{
 "cells": [
  {
   "cell_type": "code",
   "execution_count": 2,
   "id": "20852033",
   "metadata": {},
   "outputs": [],
   "source": [
    "import requests\n",
    "import re\n",
    "from bs4 import BeautifulSoup\n",
    "import math"
   ]
  },
  {
   "cell_type": "markdown",
   "id": "ab87a8a0",
   "metadata": {},
   "source": [
    "https://www.scrapingdog.com/blog/scrape-linkedin-jobs/"
   ]
  },
  {
   "cell_type": "markdown",
   "id": "daf5be33",
   "metadata": {},
   "source": [
    "# Target URL\n",
    "Follow the steps to produce a target URL:\n",
    "1. Goto Linkedin and search for a job with any filters you want.\n",
    "2. Open up the Developer inspector (Use Google Chrome) and scroll down until the next set of jobs load.\n",
    "3. In the network tab there should be a \"search\" request when it loads the new jobs.\n",
    "4. Grab that URL in the search request.\n",
    "5. replace the last NUMBER in the URL with a {} in order to utilize a .format() for looping later. ie 'start=0' -> 'start={}'"
   ]
  },
  {
   "cell_type": "code",
   "execution_count": 25,
   "id": "ecae2de1",
   "metadata": {},
   "outputs": [],
   "source": [
    "target_url = 'https://www.linkedin.com/jobs-guest/jobs/api/seeMoreJobPostings/search?keywords=Data%2BScientist&location=United%2BStates&geoId=103644278&f_JT=F&f_E=2&f_WT=2&currentJobId=3664087381&position=1&pageNum=0&start={}'"
   ]
  },
  {
   "cell_type": "code",
   "execution_count": 26,
   "id": "b3822845",
   "metadata": {
    "scrolled": true
   },
   "outputs": [
    {
     "data": {
      "text/plain": [
       "'https://www.linkedin.com/jobs-guest/jobs/api/seeMoreJobPostings/search?keywords=Data%2BScientist&location=United%2BStates&geoId=103644278&f_JT=F&f_E=2&f_WT=2&currentJobId=3664087381&position=1&pageNum=0&start={}'"
      ]
     },
     "execution_count": 26,
     "metadata": {},
     "output_type": "execute_result"
    }
   ],
   "source": [
    "target_url"
   ]
  },
  {
   "cell_type": "markdown",
   "id": "ea3cd035",
   "metadata": {},
   "source": [
    "# Job ID Loop"
   ]
  },
  {
   "cell_type": "code",
   "execution_count": null,
   "id": "828d8b6c",
   "metadata": {},
   "outputs": [],
   "source": [
    "l=[] #Empty list to store job IDs. These IDs are used to create the URLs for specific job searches later\n",
    "a = 0 #Used for the URL page number\n",
    "pattern = 'jobPosting:(?P<job_id>\\d+)' #Regex patter to get the job ID\n",
    "for i in range(0, math.ceil(7807/25)): #Use math.ceil() to round off the loop\n",
    "    res = requests.get(target_url.format(a)) #Get request against the target URL and a .format() in order to provide specific page number.\n",
    "    a += 25\n",
    "    soup = BeautifulSoup(res.text, 'html.parser')\n",
    "    all_jobs = soup.find_all('li') #The 'li' tag contains the job ID\n",
    "    #print(len(all_jobs)) #Debug\n",
    "    for j in range(0, len(all_jobs)): #Loop through all b4 'li' list\n",
    "        job_id = re.search(pattern, str(all_jobs[j])) #Using Regex to search for the ID\n",
    "        l.append(int(job_id.groups()[0])) #Appened the ID and casting it as int for later use."
   ]
  },
  {
   "cell_type": "markdown",
   "id": "86fb12ff",
   "metadata": {},
   "source": [
    "# Job Loop"
   ]
  },
  {
   "cell_type": "code",
   "execution_count": 109,
   "id": "cfae1bbc",
   "metadata": {},
   "outputs": [],
   "source": [
    "target_job_url = 'https://www.linkedin.com/jobs-guest/jobs/api/jobPosting/{}/'"
   ]
  },
  {
   "cell_type": "code",
   "execution_count": 110,
   "id": "bb457c18",
   "metadata": {},
   "outputs": [],
   "source": [
    "test_target_job_url = 'https://www.linkedin.com/jobs-guest/jobs/api/jobPosting/3664087381/'"
   ]
  },
  {
   "cell_type": "code",
   "execution_count": 115,
   "id": "f8c59744",
   "metadata": {},
   "outputs": [
    {
     "data": {
      "text/plain": [
       "'Analytica'"
      ]
     },
     "execution_count": 115,
     "metadata": {},
     "output_type": "execute_result"
    }
   ],
   "source": [
    "test_res_job =  requests.get(test_target_job_url)\n",
    "test_soup = BeautifulSoup(test_res_job.text, 'html.parser')\n",
    "test_soup.find(\"div\",{\"class\":\"top-card-layout__card\"}).find(\"a\").find(\"img\").get('alt')"
   ]
  },
  {
   "cell_type": "code",
   "execution_count": 121,
   "id": "a3747872",
   "metadata": {
    "scrolled": true
   },
   "outputs": [
    {
     "data": {
      "text/plain": [
       "'Data Scientist'"
      ]
     },
     "execution_count": 121,
     "metadata": {},
     "output_type": "execute_result"
    }
   ],
   "source": [
    "test_soup.find(\"div\",{\"class\":\"top-card-layout__entity-info\"}).find(\"a\").text.strip()"
   ]
  },
  {
   "cell_type": "code",
   "execution_count": 113,
   "id": "499d8cff",
   "metadata": {},
   "outputs": [
    {
     "data": {
      "text/plain": [
       "\n",
       "<!-- -->\n",
       "<section class=\"top-card-layout container-lined overflow-hidden babybear:rounded-[0px]\">\n",
       "<div class=\"top-card-layout__card relative p-2 papabear:p-details-container-padding\">\n",
       "<a data-tracking-control-name=\"public_jobs_topcard_logo\" data-tracking-will-navigate=\"\" href=\"https://www.linkedin.com/company/analytica-inc?trk=public_jobs_topcard_logo\" target=\"_self\">\n",
       "<img alt=\"Analytica\" class=\"artdeco-entity-image artdeco-entity-image--square-5\" data-delayed-url=\"https://media.licdn.com/dms/image/C4E0BAQGyzLU9Qb95hw/company-logo_100_100/0/1658342420131?e=2147483647&amp;v=beta&amp;t=iCOXMIyPJUYOY0QELowZzhYBJ2mskqPyZl8a4ULSdPc\" data-ghost-classes=\"artdeco-entity-image--ghost\" data-ghost-url=\"https://static.licdn.com/aero-v1/sc/h/9a9u41thxt325ucfh5z8ga4m8\"/>\n",
       "</a>\n",
       "<div class=\"top-card-layout__entity-info-container flex flex-wrap papabear:flex-nowrap\">\n",
       "<div class=\"top-card-layout__entity-info flex-grow flex-shrink-0 basis-0 babybear:flex-none babybear:w-full babybear:flex-none babybear:w-full\">\n",
       "<a class=\"topcard__link\" data-tracking-control-name=\"public_jobs_topcard-title\" data-tracking-will-navigate=\"\" href=\"https://www.linkedin.com/jobs/view/data-scientist-at-analytica-3664087381?trk=public_jobs_topcard-title\">\n",
       "<h2 class=\"top-card-layout__title font-sans text-lg papabear:text-xl font-bold leading-open text-color-text mb-0 topcard__title\">Data Scientist</h2>\n",
       "</a>\n",
       "<!-- -->\n",
       "<!-- -->\n",
       "<h4 class=\"top-card-layout__second-subline font-sans text-sm leading-open text-color-text-low-emphasis mt-0.5\">\n",
       "<div class=\"topcard__flavor-row\">\n",
       "<span class=\"topcard__flavor\">\n",
       "<a class=\"topcard__org-name-link topcard__flavor--black-link\" data-tracking-control-name=\"public_jobs_topcard-org-name\" data-tracking-will-navigate=\"\" href=\"https://www.linkedin.com/company/analytica-inc?trk=public_jobs_topcard-org-name\" rel=\"noopener\" target=\"_blank\">\n",
       "                Analytica\n",
       "              </a>\n",
       "</span>\n",
       "<span class=\"topcard__flavor topcard__flavor--bullet\">\n",
       "              Washington, DC\n",
       "            </span>\n",
       "</div>\n",
       "<div class=\"topcard__flavor-row\">\n",
       "<span class=\"posted-time-ago__text topcard__flavor--metadata\">\n",
       "        \n",
       "\n",
       "    \n",
       "    \n",
       "    \n",
       "    \n",
       "    \n",
       "    \n",
       "    \n",
       "    \n",
       "    \n",
       "    \n",
       "    \n",
       "    \n",
       "    \n",
       "    \n",
       "    \n",
       "    \n",
       "\n",
       "    \n",
       "    \n",
       "    \n",
       "    \n",
       "    \n",
       "    \n",
       "    \n",
       "    \n",
       "    \n",
       "    \n",
       "    \n",
       "    \n",
       "    \n",
       "    \n",
       "\n",
       "      1 month ago\n",
       "  \n",
       "      </span>\n",
       "<figure class=\"num-applicants__figure topcard__flavor--metadata topcard__flavor--bullet\">\n",
       "<span class=\"num-applicants__icon num-applicants__icon--notify-pebble lazy-load\"></span>\n",
       "<figcaption class=\"num-applicants__caption\">\n",
       "            Over 200 applicants\n",
       "          </figcaption>\n",
       "</figure>\n",
       "</div>\n",
       "<div class=\"face-pile flex see-who-was-hired\">\n",
       "<div class=\"face-pile__images-container self-start flex-shrink-0 mr-1 leading-[1]\">\n",
       "<img alt=\"\" class=\"inline-block relative rounded-[50%] w-4 h-4 face-pile__image border-1 border-solid border-color-transparent -ml-2 first:ml-0\" data-delayed-url=\"https://static.licdn.com/aero-v1/sc/h/5kmvlcys0cgehw7e3ojvz5yuk\" data-ghost-classes=\"bg-color-entity-ghost-background\" data-ghost-url=\"https://static.licdn.com/aero-v1/sc/h/9c8pery4andzj6ohjkjp54ma2\"/>\n",
       "<img alt=\"\" class=\"inline-block relative rounded-[50%] w-4 h-4 face-pile__image border-1 border-solid border-color-transparent -ml-2 first:ml-0\" data-delayed-url=\"https://static.licdn.com/aero-v1/sc/h/dbyylwnsp3dbiscb831jwsr32\" data-ghost-classes=\"bg-color-entity-ghost-background\" data-ghost-url=\"https://static.licdn.com/aero-v1/sc/h/9c8pery4andzj6ohjkjp54ma2\"/>\n",
       "<img alt=\"\" class=\"inline-block relative rounded-[50%] w-4 h-4 face-pile__image border-1 border-solid border-color-transparent -ml-2 first:ml-0\" data-delayed-url=\"https://static.licdn.com/aero-v1/sc/h/aemitl4w713xg3xvy9bcrecox\" data-ghost-classes=\"bg-color-entity-ghost-background\" data-ghost-url=\"https://static.licdn.com/aero-v1/sc/h/9c8pery4andzj6ohjkjp54ma2\"/>\n",
       "</div>\n",
       "<a class=\"face-pile__cta self-center link-no-visited-state\" data-tracking-control-name=\"public_jobs_see-who-was-hired_people-search-link_face-pile-cta\" data-tracking-will-navigate=\"\" href=\"https://www.linkedin.com/login?session_redirect=https%3A%2F%2Fwww%2Elinkedin%2Ecom%2Fsearch%2Fresults%2Fpeople%2F%3FfacetCurrentCompany%3D889902%26title%3DData%2BScientist&amp;emailAddress=&amp;fromSignIn=&amp;trk=public_jobs_see-who-was-hired_people-search-link_face-pile-cta\">\n",
       "            See who Analytica has hired for this role\n",
       "          </a>\n",
       "</div>\n",
       "<!-- -->\n",
       "</h4>\n",
       "<div class=\"top-card-layout__cta-container flex flex-wrap mt-0.5 papabear:mt-0 ml-[-12px]\">\n",
       "<button class=\"apply-button apply-button--default top-card-layout__cta mt-2 ml-1.5 h-auto babybear:flex-auto top-card-layout__cta--primary btn-md btn-primary\" data-reference-id=\"EcQnQkRAT027L7baaa1CEw==\" data-tracking-control-name=\"public_jobs_apply-link-onsite\">\n",
       "        Apply\n",
       "      </button>\n",
       "<button class=\"top-card-layout__cta mt-2 ml-1.5 h-auto babybear:flex-auto top-card-layout__cta--secondary btn-md btn-secondary save-job-modal-outlet\" data-impression-id=\"public_jobs_topcard-save-job\" data-modal=\"save-job-modal-outlet\" data-tracking-control-name=\"public_jobs_topcard-save-job\">\n",
       "            Save\n",
       "          </button>\n",
       "<div class=\"\">\n",
       "<!-- -->\n",
       "<div class=\"modal save-job-modal\" data-outlet=\"save-job-modal-outlet\" id=\"save-job-modal\">\n",
       "<!-- --> <div class=\"modal__overlay flex items-center bg-color-background-scrim justify-center fixed bottom-0 left-0 right-0 top-0 opacity-0 invisible pointer-events-none z-[1000] transition-[opacity] ease-[cubic-bezier(0.25,0.1,0.25,1.0)] duration-[0.17s] py-4\">\n",
       "<section aria-labelledby=\"save-job-modal-modal-header\" aria-modal=\"true\" class=\"max-h-full modal__wrapper overflow-auto p-0 bg-color-surface max-w-[1128px] min-h-[160px] relative scale-[0.25] shadow-sm shadow-color-border-faint transition-[transform] ease-[cubic-bezier(0.25,0.1,0.25,1.0)] duration-[0.33s] focus:outline-0 w-[1128px] mamabear:w-[744px] babybear:w-[360px] rounded-md\" role=\"dialog\" tabindex=\"-1\">\n",
       "<header class=\"modal__header flex items-center justify-between border-b-1 border-solid border-color-border-faint py-1.5 px-3\">\n",
       "<h2 class=\"modal__title font-normal leading-open text-color-text text-lg\" id=\"save-job-modal-modal-header\">Save job</h2>\n",
       "<button aria-label=\"Dismiss\" class=\"modal__dismiss modal__dismiss--with-icon btn-tertiary h-[40px] w-[40px] p-0 rounded-full indent-0\" data-tracking-control-name=\"public_jobs_save-job-modal_modal_dismiss\" type=\"button\">\n",
       "<icon class=\"modal__dismiss-icon relative top-[2px]\" data-delayed-url=\"https://static.licdn.com/aero-v1/sc/h/gs508lg3t2o81tq7pmcgn6m2\"></icon>\n",
       "</button>\n",
       "<!-- --> </header>\n",
       "<div class=\"modal__main w-full\">\n",
       "<div class=\"loader loader--absolute\">\n",
       "<div class=\"loader__container mb-2 overflow-hidden\">\n",
       "<icon class=\"loader__icon inline-block loader__icon--muted text-color-icon-active\" data-delayed-url=\"https://static.licdn.com/aero-v1/sc/h/ddi43qwelxeqjxdd45pe3fvs1\" data-svg-class-name=\"loader__icon-svg--small fill-currentColor h-[30px] min-h-[30px] w-[30px] min-w-[30px]\"></icon>\n",
       "</div>\n",
       "</div>\n",
       "<code id=\"i18n_save_job_form_email_check_error\" style=\"display: none\"><!--\"We’re sorry, something went wrong on our end. Please try again.\"--></code>\n",
       "<div class=\"email-input-page save-job-form-page\">\n",
       "<form class=\"email-input-page__content-new-user\">\n",
       "<div class=\"email-input-page__content\">\n",
       "<h3 class=\"email-input-page__header\">\n",
       "<figure class=\"save-job-form__inbug\">\n",
       "<icon data-delayed-url=\"https://static.licdn.com/aero-v1/sc/h/ercwkzy8m5jnkaliyweviswct\" data-svg-class-name=\"save-job-form__inbug-icon\"></icon>\n",
       "</figure>\n",
       "        Save this job with your existing LinkedIn profile, or create a new one.\n",
       "      \n",
       "          </h3>\n",
       "<span class=\"email-input-page__body\">\n",
       "            \n",
       "        Your job seeking activity is only visible to you.\n",
       "      \n",
       "          </span>\n",
       "<div class=\"mt-1.5\" data-js-module-id=\"guest-input\">\n",
       "<div class=\"flex flex-col\">\n",
       "<label class=\"input-label mb-1\" for=\"public_jobs_save-job_email-input\">\n",
       "          Email\n",
       "        </label>\n",
       "<div class=\"text-input flex\">\n",
       "<input autocomplete=\"off\" class=\"text-color-text font-sans text-md outline-0 bg-color-transparent grow\" data-tracking-control-name=\"public_jobs_save-job_enter-email\" id=\"public_jobs_save-job_email-input\" name=\"email-input-page__input\" placeholder=\"Email address\" required=\"\" type=\"text\"/>\n",
       "</div>\n",
       "</div>\n",
       "<p class=\"input-helper mt-1.5\" data-js-module-id=\"guest-input__message\" for=\"public_jobs_save-job_email-input\" role=\"alert\"></p>\n",
       "</div>\n",
       "<code id=\"email-input-page-error-message\" style=\"display: none\"><!--\"Please enter a valid email address.\"--></code>\n",
       "</div>\n",
       "<footer class=\"save-job-form__footer\">\n",
       "<button class=\"save-job-form__button\" data-tracking-control-name=\"public_jobs_save-job-form-continue\" type=\"submit\">\n",
       "            Continue\n",
       "          </button>\n",
       "</footer>\n",
       "</form>\n",
       "<div class=\"welcome-back-sign-in-form welcome-back-sign-in-form--hidden\" data-impression-id=\"save-job-sign-in-form\">\n",
       "<h3 class=\"welcome-back-sign-in-form__header\">\n",
       "        Welcome back\n",
       "      </h3>\n",
       "<p class=\"welcome-back-sign-in-form__subline\">\n",
       "          \n",
       "          \n",
       "        Sign in to save <b>Data Scientist</b> at <b>Analytica</b>.\n",
       "      \n",
       "        \n",
       "        </p>\n",
       "<code id=\"i18n_sign_in_form_show_text\" style=\"display: none\"><!--\"Show\"--></code>\n",
       "<code id=\"i18n_sign_in_form_show_label\" style=\"display: none\"><!--\"Show your LinkedIn password\"--></code>\n",
       "<code id=\"i18n_sign_in_form_hide_text\" style=\"display: none\"><!--\"Hide\"--></code>\n",
       "<code id=\"i18n_sign_in_form_hide_label\" style=\"display: none\"><!--\"Hide your LinkedIn password\"--></code>\n",
       "<code id=\"i18n_username_error_empty\" style=\"display: none\"><!--\"Please enter an email address or phone number\"--></code>\n",
       "<code id=\"i18n_username_error_too_long\" style=\"display: none\"><!--\"Email or phone number must be between 3 to 128 characters\"--></code>\n",
       "<code id=\"i18n_username_error_too_short\" style=\"display: none\"><!--\"Email or phone number must be between 3 to 128 characters\"--></code>\n",
       "<code id=\"i18n_password_error_empty\" style=\"display: none\"><!--\"Please enter a password\"--></code>\n",
       "<code id=\"i18n_password_error_too_short\" style=\"display: none\"><!--\"The password you provided must have at least 6 characters\"--></code>\n",
       "<code id=\"i18n_password_error_too_long\" style=\"display: none\"><!--\"The password you provided must have at most 400 characters\"--></code>\n",
       "<form action=\"https://www.linkedin.com/uas/login-submit\" class=\"save-job-form-sign-in-form\" data-id=\"sign-in-form\" method=\"post\" novalidate=\"\">\n",
       "<input name=\"loginCsrfParam\" type=\"hidden\" value=\"89c455e2-bfa5-4f7b-8ab5-feb8a0e6f6e2\"/>\n",
       "<div class=\"flex flex-col\">\n",
       "<div class=\"mt-1.5\" data-js-module-id=\"guest-input\">\n",
       "<div class=\"flex flex-col\">\n",
       "<label class=\"input-label mb-1\" for=\"session_key\">\n",
       "          Email or phone\n",
       "        </label>\n",
       "<div class=\"text-input flex\">\n",
       "<input autocomplete=\"username\" class=\"text-color-text font-sans text-md outline-0 bg-color-transparent grow\" id=\"session_key\" name=\"session_key\" required=\"\" type=\"text\"/>\n",
       "</div>\n",
       "</div>\n",
       "<p class=\"input-helper mt-1.5\" data-js-module-id=\"guest-input__message\" for=\"session_key\" role=\"alert\"></p>\n",
       "</div>\n",
       "<div class=\"mt-1.5\" data-js-module-id=\"guest-input\">\n",
       "<div class=\"flex flex-col\">\n",
       "<label class=\"input-label mb-1\" for=\"session_password\">\n",
       "          Password\n",
       "        </label>\n",
       "<div class=\"text-input flex\">\n",
       "<input autocomplete=\"current-password\" class=\"text-color-text font-sans text-md outline-0 bg-color-transparent grow\" id=\"session_password\" name=\"session_password\" required=\"\" type=\"password\"/>\n",
       "<button aria-label=\"Show your LinkedIn password\" aria-live=\"assertive\" class=\"font-sans text-md font-bold text-color-action z-10 ml-[12px] hover:cursor-pointer\" data-id=\"sign-in-form__password-visibility-toggle\" data-tracking-control-name=\"public_jobs_save-job_sign-in-password-visibility-toggle-btn\" type=\"button\">Show</button>\n",
       "</div>\n",
       "</div>\n",
       "<p class=\"input-helper mt-1.5\" data-js-module-id=\"guest-input__message\" for=\"session_password\" role=\"alert\"></p>\n",
       "</div>\n",
       "<input name=\"session_redirect\" type=\"hidden\" value=\"https://www.linkedin.com/jobs/view/data-scientist-at-analytica-3664087381\"/>\n",
       "<!-- --> </div>\n",
       "<div class=\"flex justify-between items-center mt-[16px]\" data-id=\"sign-in-form__footer\">\n",
       "<a class=\"font-sans text-md font-bold link leading-regular\" data-id=\"sign-in-form__forgot-password\" data-tracking-control-name=\"public_jobs_save-job_forgot_password\" data-tracking-will-navigate=\"\" href=\"https://www.linkedin.com/uas/request-password-reset?trk=public_jobs_save-job_forgot_password\">Forgot password?</a>\n",
       "<!-- -->\n",
       "<input name=\"trk\" type=\"hidden\" value=\"public_jobs_save-job_sign-in-submit\"/>\n",
       "<button class=\"btn-md btn-primary flex-shrink-0 cursor-pointer ml-[8px]\" data-id=\"sign-in-form__submit-btn\" data-tracking-control-name=\"public_jobs_save-job_sign-in-submit-btn\" data-tracking-litms=\"\" type=\"submit\">\n",
       "          Sign in\n",
       "        </button>\n",
       "</div>\n",
       "<!-- --> </form>\n",
       "<!-- --><!-- -->\n",
       "</div>\n",
       "</div>\n",
       "</div>\n",
       "<!-- --> </section>\n",
       "</div>\n",
       "</div>\n",
       "</div>\n",
       "</div>\n",
       "</div>\n",
       "<!-- --> </div>\n",
       "<div class=\"ellipsis-menu absolute right-0 top-0 top-card-layout__ellipsis-menu mr-1 papabear:mt-0.5 papabear:mr-2\">\n",
       "<div class=\"collapsible-dropdown flex items-center relative hyphens-auto\">\n",
       "<button aria-expanded=\"false\" aria-label=\"Open menu\" class=\"ellipsis-menu__trigger collapsible-dropdown__button btn-md btn-tertiary cursor-pointer !py-[6px] !px-1 flex items-center rounded-[50%]\" data-tracking-control-name=\"public_jobs_ellipsis-menu-trigger\">\n",
       "<icon class=\"ellipsis-menu__trigger-icon m-0 p-0 centered-icon\" data-delayed-url=\"https://static.licdn.com/aero-v1/sc/h/671xosfpvk4c0kqtyl87hashi\"></icon>\n",
       "</button>\n",
       "<ul class=\"collapsible-dropdown__list hidden container-raised absolute w-auto overflow-y-auto flex-col items-stretch z-1 bottom-auto top-[100%]\" role=\"menu\" tabindex=\"-1\">\n",
       "<li class=\"ellipsis-menu__item border-t-1 border-solid border-color-border-low-emphasis first-of-type:border-none flex\">\n",
       "<a class=\"semaphore__toggle visited:text-color-text-secondary ellipsis-menu__semaphore ellipsis-menu__item-button flex items-center w-full p-1 cursor-pointer font-sans text-sm font-bold link-styled focus:link-styled link:no-underline active:bg-color-background-container-tint focus:bg-color-background-container-tint hover:bg-color-background-container-tint outline-offset-[-2px]\" data-is-logged-in=\"false\" data-item-type=\"semaphore\" data-modal=\"semaphore__toggle\" data-semaphore-content-type=\"JOB\" data-semaphore-content-urn=\"urn:li:jobPosting:3664087381\" data-semaphore-tracking-prefix=\"public_jobs_ellipsis-menu-semaphore\" data-tracking-control-name=\"public_jobs_ellipsis-menu-semaphore-sign-in-redirect\" data-tracking-will-navigate=\"\" href=\"/uas/login?fromSignIn=true&amp;session_redirect=https%3A%2F%2Fwww.linkedin.com%2Fjobs%2Fview%2Fdata-scientist-at-analytica-3664087381&amp;trk=public_jobs_ellipsis-menu-semaphore-sign-in-redirect&amp;guestReportContentType=JOB&amp;_f=guest-reporting\">\n",
       "<!-- -->\n",
       "<icon class=\"ellipsis-menu__item-icon text-color-text h-[24px] w-[24px] mr-1\" data-delayed-url=\"https://static.licdn.com/aero-v1/sc/h/iq0x9q37wj214o129ai1yjut\">\n",
       "</icon>\n",
       "                      Report this job\n",
       "                    \n",
       "    </a>\n",
       "<!-- -->\n",
       "</li>\n",
       "<!-- -->\n",
       "</ul>\n",
       "<!-- --> </div>\n",
       "</div>\n",
       "<!-- --> </div>\n",
       "</section>\n",
       "<div class=\"decorated-job-posting__details\">\n",
       "<!-- -->\n",
       "<section class=\"core-section-container my-3 description\">\n",
       "<!-- -->\n",
       "<!-- -->\n",
       "<!-- -->\n",
       "<div class=\"core-section-container__content break-words\">\n",
       "<!-- -->\n",
       "<div class=\"description__text description__text--rich\">\n",
       "<section class=\"show-more-less-html\" data-max-lines=\"5\">\n",
       "<div class=\"show-more-less-html__markup show-more-less-html__markup--clamp-after-5 relative overflow-hidden\">\n",
       "<p>Analytica is seeking a remote<strong>Data Scientist</strong>to support one or more dynamic, long-term federal government data science programs. The company works as a trusted advisor to U.S. federal government clients in health, civilian, and national security missions.The ideal candidate will be comfortable as a key member of a multi-disciplinary team working in an Agile environment to produce advanced analytics solutions.<br/><br/>Analytica has been recognized by<em>Inc. Magazine</em>as one of the 250 fastest-growing US small businesses for three consecutive years.We work with U.S. government clients to build data-driven products and cultures that make an impact on our daily lives. Analytica offers competitive compensation with opportunities for bonuses, employer-paid health care, unlimited training funds, and a 401k match.<br/><br/><strong>Requirements:</strong></p><ul><li>Feature Engineering and Attribute Evaluation - The candidate must demonstrate experience with identifying the key determinants for modeling that exist in the business process and within existing data sets, as well as selecting evaluation protocols (model techniques).</li><li>Pre-processing - Demonstrate the skills and experience to collect, clean, and prepare data sets for input into a computational model using technologies such as Python or R. Candidates will explain various methods you have applied using common pre-processing functions.</li><li>Modeling - Candidates will have practiced skills and experience selecting and applying modeling techniques to fit the business problem. Ideal candidatesshould be able to applymachine learning (ML) supervised and unsupervised learning, regression, neural networks and deep learning, natural language processing, etc.</li><li>Validation - Candidates will have experience investigating, testing, reporting, and justifying model results.</li><li>Visualization – Candidates should be comfortable presenting the results of their modeling activities, depicting the insights realized, and explaining the relevance of their results to the organization’s business challenges<br/></li></ul><p><strong>Qualifications:</strong></p><ul><li>Bachelor's degree inStatistics, Mathematics, Physics, Computer Science, or another quantitative field; Master'sdegree orPhD a plus</li><li>3+ years in data science, data engineering, as a statistician,or a related quantitative field</li><li>High degree of experience in Python to support the development of complex statistical use cases</li><li>Experience implementingunsupervised (e.g., clustering), semi-supervised (e.g., label propagation) and supervised learning (e.g., ensemble classifiers) algorithms, and when it is appropriate to use each is a strong plus</li><li>Experience pulling and organizing data from relational databases using SQL</li><li>Experience working in cloud environments such as AWS, Azure or Databricks</li><li>Experience working in an Agile project management environment</li><li>Must be a U.S. Citizen andbe able to obtain and maintain a security clearance</li></ul><p><br/><strong>About</strong><strong>Analytica</strong>:Analytica is a leading consulting and information technology solutions provider to public sector organizations supporting health, civilian, and national security missions. Founded in 2009 and headquartered in Bethesda, MD, the company is an established8(a) small businessthat hasbeen recognized by<em>Inc. Magazine</em>each of the past three years as one of the 250 fastest-growingcompanies in theU.S. Analytica specializes in providing software and systems engineering, information management, analytics &amp; visualization, agile project management, and management consulting services.The Software Engineering Institute (SEI) appraises the companyatCMMI® Maturity Level 3and is anISO 9001:2008 certifiedprovider.<br/><br/>As a federal contractor, Analytica is required to verify that all employees are fully vaccinated against COVID-19. If you receive an offer and are unable to get vaccinated for religious or medical reasons, you may request a reasonable accommodation.<br/></p>\n",
       "</div>\n",
       "<button aria-expanded=\"false\" aria-label=\"Show more, visually expands previously read content above\" class=\"show-more-less-html__button show-more-less-button show-more-less-html__button--more !ml-0.5\" data-tracking-control-name=\"public_jobs_show-more-html-btn\">\n",
       "        Show more\n",
       "\n",
       "        <icon class=\"show-more-less-html__button-icon show-more-less-button-icon\" data-delayed-url=\"https://static.licdn.com/aero-v1/sc/h/cyolgscd0imw2ldqppkrb84vo\"></icon>\n",
       "</button>\n",
       "<button aria-expanded=\"true\" aria-label=\"Show less\" class=\"show-more-less-html__button show-more-less-button show-more-less-html__button--less !ml-0.5\" data-tracking-control-name=\"public_jobs_show-less-html-btn\">\n",
       "        Show less\n",
       "\n",
       "        <icon class=\"show-more-less-html__button-icon show-more-less-button-icon\" data-delayed-url=\"https://static.licdn.com/aero-v1/sc/h/4chtt12k98xwnba1nimld2oyg\"></icon>\n",
       "</button>\n",
       "</section>\n",
       "</div>\n",
       "<ul class=\"description__job-criteria-list\">\n",
       "<li class=\"description__job-criteria-item\">\n",
       "<h3 class=\"description__job-criteria-subheader\">\n",
       "            Seniority level\n",
       "          </h3>\n",
       "<span class=\"description__job-criteria-text description__job-criteria-text--criteria\">\n",
       "            Entry level\n",
       "          </span>\n",
       "</li>\n",
       "<li class=\"description__job-criteria-item\">\n",
       "<h3 class=\"description__job-criteria-subheader\">\n",
       "          Employment type\n",
       "        </h3>\n",
       "<span class=\"description__job-criteria-text description__job-criteria-text--criteria\">\n",
       "          Full-time\n",
       "        </span>\n",
       "</li>\n",
       "<li class=\"description__job-criteria-item\">\n",
       "<h3 class=\"description__job-criteria-subheader\">\n",
       "            Job function\n",
       "          </h3>\n",
       "<span class=\"description__job-criteria-text description__job-criteria-text--criteria\">\n",
       "            Engineering and Information Technology\n",
       "          </span>\n",
       "</li>\n",
       "<li class=\"description__job-criteria-item\">\n",
       "<h3 class=\"description__job-criteria-subheader\">\n",
       "            Industries\n",
       "          </h3>\n",
       "<span class=\"description__job-criteria-text description__job-criteria-text--criteria\">\n",
       "          IT Services and IT Consulting\n",
       "          </span>\n",
       "</li>\n",
       "</ul>\n",
       "</div>\n",
       "</section>\n",
       "<section class=\"core-section-container my-3 find-a-referral\">\n",
       "<!-- -->\n",
       "<!-- -->\n",
       "<!-- -->\n",
       "<div class=\"core-section-container__content break-words\">\n",
       "<div class=\"face-pile flex\">\n",
       "<div class=\"face-pile__images-container self-start flex-shrink-0 mr-1 leading-[1]\">\n",
       "<img alt=\"\" class=\"inline-block relative rounded-[50%] w-4 h-4 face-pile__image border-1 border-solid border-color-transparent -ml-2 first:ml-0\" data-delayed-url=\"https://static.licdn.com/aero-v1/sc/h/1oohr7bvai8zhfg0n5i7yga5t\" data-ghost-classes=\"bg-color-entity-ghost-background\" data-ghost-url=\"https://static.licdn.com/aero-v1/sc/h/9c8pery4andzj6ohjkjp54ma2\"/>\n",
       "<img alt=\"\" class=\"inline-block relative rounded-[50%] w-4 h-4 face-pile__image border-1 border-solid border-color-transparent -ml-2 first:ml-0\" data-delayed-url=\"https://static.licdn.com/aero-v1/sc/h/bjudoo09dcwsxoa869sitp21l\" data-ghost-classes=\"bg-color-entity-ghost-background\" data-ghost-url=\"https://static.licdn.com/aero-v1/sc/h/9c8pery4andzj6ohjkjp54ma2\"/>\n",
       "<img alt=\"\" class=\"inline-block relative rounded-[50%] w-4 h-4 face-pile__image border-1 border-solid border-color-transparent -ml-2 first:ml-0\" data-delayed-url=\"https://static.licdn.com/aero-v1/sc/h/4pffa87inh3xi5owxxpg7ucyk\" data-ghost-classes=\"bg-color-entity-ghost-background\" data-ghost-url=\"https://static.licdn.com/aero-v1/sc/h/9c8pery4andzj6ohjkjp54ma2\"/>\n",
       "</div>\n",
       "<div class=\"find-a-referral__cta-container\">\n",
       "<p>Referrals increase your chances of interviewing at Analytica by 2x</p>\n",
       "<a class=\"find-a-referral__cta\" data-impression-id=\"public_jobs_find-a-referral-cta\" data-tracking-control-name=\"public_jobs_find-a-referral-cta\" data-tracking-will-navigate=\"\" href=\"https://www.linkedin.com/login?session_redirect=https%3A%2F%2Fwww%2Elinkedin%2Ecom%2Fsearch%2Fresults%2Fpeople%2F%3FfacetCurrentCompany%3D889902&amp;emailAddress=&amp;fromSignIn=&amp;trk=public_jobs_find-a-referral-cta\">\n",
       "              See who you know\n",
       "            </a>\n",
       "</div>\n",
       "</div>\n",
       "</div>\n",
       "</section>\n",
       "<!-- --> </div>\n",
       "<!-- -->\n",
       "<!-- -->\n",
       "<code id=\"decoratedJobPostingId\" style=\"display: none\"><!--3664087381--></code>\n",
       "<!-- --> <code id=\"joinUrlWithRedirect\" style=\"display: none\"><!--\"https://www.linkedin.com/signup/cold-join?source=jobs_registration&session_redirect=https%3A%2F%2Fwww.linkedin.com%2Fjobs%2Fview%2Fdata-scientist-at-analytica-3664087381&trk=public_jobs_save-job\"--></code>"
      ]
     },
     "execution_count": 113,
     "metadata": {},
     "output_type": "execute_result"
    }
   ],
   "source": [
    "test_soup"
   ]
  },
  {
   "cell_type": "code",
   "execution_count": 124,
   "id": "f1aa91ca",
   "metadata": {},
   "outputs": [
    {
     "data": {
      "text/plain": [
       "'Analytica is seeking a remoteData Scientistto support one or more dynamic, long-term federal government data science programs. The company works as a trusted advisor to U.S. federal government clients in health, civilian, and national security missions.The ideal candidate will be comfortable as a key member of a multi-disciplinary team working in an Agile environment to produce advanced analytics solutions.Analytica has been recognized byInc. Magazineas one of the 250 fastest-growing US small businesses for three consecutive years.We work with U.S. government clients to build data-driven products and cultures that make an impact on our daily lives. Analytica offers competitive compensation with opportunities for bonuses, employer-paid health care, unlimited training funds, and a 401k match.Requirements:'"
      ]
     },
     "execution_count": 124,
     "metadata": {},
     "output_type": "execute_result"
    }
   ],
   "source": [
    "test_soup.find(\"div\",{\"class\":\"show-more-less-html__markup\"}).find('p').text"
   ]
  },
  {
   "cell_type": "code",
   "execution_count": 125,
   "id": "ca3982bc",
   "metadata": {},
   "outputs": [
    {
     "data": {
      "text/plain": [
       "'Feature Engineering and Attribute Evaluation - The candidate must demonstrate experience with identifying the key determinants for modeling that exist in the business process and within existing data sets, as well as selecting evaluation protocols (model techniques).Pre-processing - Demonstrate the skills and experience to collect, clean, and prepare data sets for input into a computational model using technologies such as Python or R. Candidates will explain various methods you have applied using common pre-processing functions.Modeling - Candidates will have practiced skills and experience selecting and applying modeling techniques to fit the business problem. Ideal candidatesshould be able to applymachine learning (ML) supervised and unsupervised learning, regression, neural networks and deep learning, natural language processing, etc.Validation - Candidates will have experience investigating, testing, reporting, and justifying model results.Visualization – Candidates should be comfortable presenting the results of their modeling activities, depicting the insights realized, and explaining the relevance of their results to the organization’s business challenges'"
      ]
     },
     "execution_count": 125,
     "metadata": {},
     "output_type": "execute_result"
    }
   ],
   "source": [
    "test_soup.find(\"div\",{\"class\":\"show-more-less-html__markup\"}).find('ul').text"
   ]
  },
  {
   "cell_type": "code",
   "execution_count": null,
   "id": "7d789a4f",
   "metadata": {},
   "outputs": [],
   "source": []
  }
 ],
 "metadata": {
  "kernelspec": {
   "display_name": "Python 3 (ipykernel)",
   "language": "python",
   "name": "python3"
  },
  "language_info": {
   "codemirror_mode": {
    "name": "ipython",
    "version": 3
   },
   "file_extension": ".py",
   "mimetype": "text/x-python",
   "name": "python",
   "nbconvert_exporter": "python",
   "pygments_lexer": "ipython3",
   "version": "3.11.4"
  }
 },
 "nbformat": 4,
 "nbformat_minor": 5
}
