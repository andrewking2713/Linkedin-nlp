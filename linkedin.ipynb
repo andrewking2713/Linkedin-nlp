{
 "cells": [
  {
   "cell_type": "code",
   "execution_count": 1,
   "id": "20852033",
   "metadata": {},
   "outputs": [],
   "source": [
    "import requests\n",
    "import re\n",
    "from bs4 import BeautifulSoup\n",
    "import math\n",
    "import pandas as pd\n",
    "import time\n",
    "import random\n",
    "import wrangle"
   ]
  },
  {
   "cell_type": "markdown",
   "id": "ab87a8a0",
   "metadata": {},
   "source": [
    "https://www.scrapingdog.com/blog/scrape-linkedin-jobs/\n",
    "\n",
    "https://www.geeksforgeeks.org/using-jupyter-notebook-in-virtual-environment/"
   ]
  },
  {
   "cell_type": "markdown",
   "id": "daf5be33",
   "metadata": {},
   "source": [
    "# Target URL\n",
    "Follow the steps to produce a target URL:\n",
    "1. Goto Linkedin and search for a job with any filters you want.\n",
    "2. Open up the Developer inspector (Use Google Chrome) and scroll down until the next set of jobs load.\n",
    "3. In the network tab there should be a \"search\" request when it loads the new jobs.\n",
    "4. Grab that URL in the search request.\n",
    "5. replace the last NUMBER in the URL with a {} in order to utilize a .format() for looping later. ie 'start=0' -> 'start={}'"
   ]
  },
  {
   "cell_type": "code",
   "execution_count": 2,
   "id": "ecae2de1",
   "metadata": {},
   "outputs": [],
   "source": [
    "target_url = 'https://www.linkedin.com/jobs-guest/jobs/api/seeMoreJobPostings/search?keywords=Data%2BScientist&location=United%2BStates&geoId=103644278&f_TPR=r86400&f_JT=F&f_E=2%2C4&f_WT=2&currentJobId=3692555868&position=2&pageNum=2&start={}'"
   ]
  },
  {
   "cell_type": "markdown",
   "id": "ea3cd035",
   "metadata": {},
   "source": [
    "# Job ID Loop\n",
    "Used to get the Job ID to appened to the job URL for crawling"
   ]
  },
  {
   "cell_type": "code",
   "execution_count": 3,
   "id": "0b73fb63-7641-4a06-9ea8-50ea4d0324d5",
   "metadata": {
    "scrolled": true
   },
   "outputs": [],
   "source": [
    "job_ids_list = wrangle.job_id_scrape(target_url, 1000)"
   ]
  },
  {
   "cell_type": "code",
   "execution_count": 4,
   "id": "f96355c4-bb66-4ff7-b3c7-5ea4ce186db2",
   "metadata": {},
   "outputs": [
    {
     "data": {
      "text/plain": [
       "992"
      ]
     },
     "execution_count": 4,
     "metadata": {},
     "output_type": "execute_result"
    }
   ],
   "source": [
    "len(job_ids_list)"
   ]
  },
  {
   "cell_type": "markdown",
   "id": "86fb12ff",
   "metadata": {},
   "source": [
    "# Job Loop\n",
    "This is made outside of a function on purpose because if the function fails or is interupted at any step it won't return a DF."
   ]
  },
  {
   "cell_type": "code",
   "execution_count": 5,
   "id": "fe6b47a3-e53f-49af-871e-3a12af6213bb",
   "metadata": {},
   "outputs": [
    {
     "ename": "KeyboardInterrupt",
     "evalue": "",
     "output_type": "error",
     "traceback": [
      "\u001b[0;31m---------------------------------------------------------------------------\u001b[0m",
      "\u001b[0;31mKeyboardInterrupt\u001b[0m                         Traceback (most recent call last)",
      "Cell \u001b[0;32mIn[5], line 3\u001b[0m\n\u001b[1;32m      1\u001b[0m job_data \u001b[38;5;241m=\u001b[39m {}\n\u001b[1;32m      2\u001b[0m \u001b[38;5;28;01mfor\u001b[39;00m i \u001b[38;5;129;01min\u001b[39;00m \u001b[38;5;28mrange\u001b[39m(\u001b[38;5;241m0\u001b[39m, \u001b[38;5;28mlen\u001b[39m(job_ids_list)):\n\u001b[0;32m----> 3\u001b[0m     job_data, job_ids_list \u001b[38;5;241m=\u001b[39m \u001b[43mwrangle\u001b[49m\u001b[38;5;241;43m.\u001b[39;49m\u001b[43mjob_scrape\u001b[49m\u001b[43m(\u001b[49m\u001b[43mjob_data\u001b[49m\u001b[43m,\u001b[49m\u001b[43m \u001b[49m\u001b[43mjob_ids_list\u001b[49m\u001b[43m)\u001b[49m\n",
      "File \u001b[0;32m~/Documents/python/linkedin-nlp/wrangle.py:109\u001b[0m, in \u001b[0;36mjob_scrape\u001b[0;34m(job_dict, job_ids_list)\u001b[0m\n\u001b[1;32m    107\u001b[0m     job_dict[\u001b[38;5;124m'\u001b[39m\u001b[38;5;124mjob_url\u001b[39m\u001b[38;5;124m'\u001b[39m]\u001b[38;5;241m.\u001b[39mappend(\u001b[38;5;124mf\u001b[39m\u001b[38;5;124m'\u001b[39m\u001b[38;5;124mhttps://www.linkedin.com/jobs-guest/jobs/api/jobPosting/\u001b[39m\u001b[38;5;132;01m{\u001b[39;00mjob_ids_list[\u001b[38;5;241m0\u001b[39m]\u001b[38;5;132;01m}\u001b[39;00m\u001b[38;5;124m/\u001b[39m\u001b[38;5;124m'\u001b[39m)\n\u001b[1;32m    108\u001b[0m     job_ids_list\u001b[38;5;241m.\u001b[39mpop(\u001b[38;5;241m0\u001b[39m)\n\u001b[0;32m--> 109\u001b[0m     \u001b[43mtime\u001b[49m\u001b[38;5;241;43m.\u001b[39;49m\u001b[43msleep\u001b[49m\u001b[43m(\u001b[49m\u001b[43mrandom\u001b[49m\u001b[38;5;241;43m.\u001b[39;49m\u001b[43mchoice\u001b[49m\u001b[43m(\u001b[49m\u001b[38;5;28;43mrange\u001b[39;49m\u001b[43m(\u001b[49m\u001b[38;5;241;43m2\u001b[39;49m\u001b[43m,\u001b[49m\u001b[38;5;241;43m4\u001b[39;49m\u001b[43m,\u001b[49m\u001b[38;5;241;43m1\u001b[39;49m\u001b[43m)\u001b[49m\u001b[43m)\u001b[49m\u001b[43m)\u001b[49m \u001b[38;5;66;03m# Sleep to avoid IP block\u001b[39;00m\n\u001b[1;32m    110\u001b[0m \u001b[38;5;28;01mreturn\u001b[39;00m job_dict, job_ids_list\n",
      "\u001b[0;31mKeyboardInterrupt\u001b[0m: "
     ]
    }
   ],
   "source": [
    "job_data = {}\n",
    "for i in range(0, len(job_ids_list)):\n",
    "    job_data, job_ids_list = wrangle.job_scrape(job_data, job_ids_list)"
   ]
  },
  {
   "cell_type": "code",
   "execution_count": 6,
   "id": "01cba971-0fb1-44bb-bdb2-6b6ff0985f5b",
   "metadata": {},
   "outputs": [
    {
     "data": {
      "text/html": [
       "<div>\n",
       "<style scoped>\n",
       "    .dataframe tbody tr th:only-of-type {\n",
       "        vertical-align: middle;\n",
       "    }\n",
       "\n",
       "    .dataframe tbody tr th {\n",
       "        vertical-align: top;\n",
       "    }\n",
       "\n",
       "    .dataframe thead th {\n",
       "        text-align: right;\n",
       "    }\n",
       "</style>\n",
       "<table border=\"1\" class=\"dataframe\">\n",
       "  <thead>\n",
       "    <tr style=\"text-align: right;\">\n",
       "      <th></th>\n",
       "      <th>job_title</th>\n",
       "      <th>company</th>\n",
       "      <th>job_info</th>\n",
       "      <th>when_posted</th>\n",
       "      <th>num_applicants</th>\n",
       "      <th>seniority</th>\n",
       "      <th>employment_type</th>\n",
       "      <th>job_function</th>\n",
       "      <th>industry</th>\n",
       "      <th>job_url</th>\n",
       "    </tr>\n",
       "  </thead>\n",
       "  <tbody>\n",
       "    <tr>\n",
       "      <th>0</th>\n",
       "      <td>Data Scientist Program Manager</td>\n",
       "      <td>Studio X</td>\n",
       "      <td>General OverviewStudio X is a global innovatio...</td>\n",
       "      <td>20 hours ago</td>\n",
       "      <td>Be among the first 25 applicants</td>\n",
       "      <td>Entry level</td>\n",
       "      <td>Full-time</td>\n",
       "      <td>Engineering and Information Technology        ...</td>\n",
       "      <td>Technology, Information and Internet</td>\n",
       "      <td>https://www.linkedin.com/jobs-guest/jobs/api/j...</td>\n",
       "    </tr>\n",
       "    <tr>\n",
       "      <th>1</th>\n",
       "      <td>SENIOR MACHINE LEARNING ENGINEER - AUSTIN,TX O...</td>\n",
       "      <td>Harnham</td>\n",
       "      <td>SENIOR MACHINE LEARNING ENGINEERAUSTIN, TX - O...</td>\n",
       "      <td>1 hour ago</td>\n",
       "      <td>Be among the first 25 applicants</td>\n",
       "      <td>Mid-Senior level</td>\n",
       "      <td>Full-time</td>\n",
       "      <td>Engineering and Information Technology        ...</td>\n",
       "      <td>Staffing and Recruiting</td>\n",
       "      <td>https://www.linkedin.com/jobs-guest/jobs/api/j...</td>\n",
       "    </tr>\n",
       "    <tr>\n",
       "      <th>2</th>\n",
       "      <td>Research Engineer (Computer Vision) - Remote</td>\n",
       "      <td>Talentify.io</td>\n",
       "      <td>Joining our team at Hiring Company offers you ...</td>\n",
       "      <td>3 hours ago</td>\n",
       "      <td>34 applicants</td>\n",
       "      <td>Entry level</td>\n",
       "      <td>Full-time</td>\n",
       "      <td>Research</td>\n",
       "      <td>Staffing and Recruiting</td>\n",
       "      <td>https://www.linkedin.com/jobs-guest/jobs/api/j...</td>\n",
       "    </tr>\n",
       "    <tr>\n",
       "      <th>3</th>\n",
       "      <td>Principal Data Scientist</td>\n",
       "      <td>Harnham</td>\n",
       "      <td>Principal Data Scientist (Remote)United States...</td>\n",
       "      <td>1 hour ago</td>\n",
       "      <td>Be among the first 25 applicants</td>\n",
       "      <td>Entry level</td>\n",
       "      <td>Full-time</td>\n",
       "      <td>Engineering and Information Technology        ...</td>\n",
       "      <td>Staffing and Recruiting</td>\n",
       "      <td>https://www.linkedin.com/jobs-guest/jobs/api/j...</td>\n",
       "    </tr>\n",
       "    <tr>\n",
       "      <th>4</th>\n",
       "      <td>Deep Learning Data Scientist</td>\n",
       "      <td>Harnham</td>\n",
       "      <td>Biotech Research | Boston, MA | Remote$160,000...</td>\n",
       "      <td>1 hour ago</td>\n",
       "      <td>Be among the first 25 applicants</td>\n",
       "      <td>Entry level</td>\n",
       "      <td>Full-time</td>\n",
       "      <td>Engineering and Information Technology        ...</td>\n",
       "      <td>Staffing and Recruiting</td>\n",
       "      <td>https://www.linkedin.com/jobs-guest/jobs/api/j...</td>\n",
       "    </tr>\n",
       "  </tbody>\n",
       "</table>\n",
       "</div>"
      ],
      "text/plain": [
       "                                           job_title       company  \\\n",
       "0                     Data Scientist Program Manager      Studio X   \n",
       "1  SENIOR MACHINE LEARNING ENGINEER - AUSTIN,TX O...       Harnham   \n",
       "2       Research Engineer (Computer Vision) - Remote  Talentify.io   \n",
       "3                           Principal Data Scientist       Harnham   \n",
       "4                       Deep Learning Data Scientist       Harnham   \n",
       "\n",
       "                                            job_info   when_posted  \\\n",
       "0  General OverviewStudio X is a global innovatio...  20 hours ago   \n",
       "1  SENIOR MACHINE LEARNING ENGINEERAUSTIN, TX - O...    1 hour ago   \n",
       "2  Joining our team at Hiring Company offers you ...   3 hours ago   \n",
       "3  Principal Data Scientist (Remote)United States...    1 hour ago   \n",
       "4  Biotech Research | Boston, MA | Remote$160,000...    1 hour ago   \n",
       "\n",
       "                     num_applicants                             seniority  \\\n",
       "0  Be among the first 25 applicants       Entry level                       \n",
       "1  Be among the first 25 applicants  Mid-Senior level                       \n",
       "2                     34 applicants       Entry level                       \n",
       "3  Be among the first 25 applicants       Entry level                       \n",
       "4  Be among the first 25 applicants       Entry level                       \n",
       "\n",
       "                 employment_type  \\\n",
       "0  Full-time                       \n",
       "1  Full-time                       \n",
       "2  Full-time                       \n",
       "3  Full-time                       \n",
       "4  Full-time                       \n",
       "\n",
       "                                        job_function  \\\n",
       "0  Engineering and Information Technology        ...   \n",
       "1  Engineering and Information Technology        ...   \n",
       "2                     Research                         \n",
       "3  Engineering and Information Technology        ...   \n",
       "4  Engineering and Information Technology        ...   \n",
       "\n",
       "                               industry  \\\n",
       "0  Technology, Information and Internet   \n",
       "1               Staffing and Recruiting   \n",
       "2               Staffing and Recruiting   \n",
       "3               Staffing and Recruiting   \n",
       "4               Staffing and Recruiting   \n",
       "\n",
       "                                             job_url  \n",
       "0  https://www.linkedin.com/jobs-guest/jobs/api/j...  \n",
       "1  https://www.linkedin.com/jobs-guest/jobs/api/j...  \n",
       "2  https://www.linkedin.com/jobs-guest/jobs/api/j...  \n",
       "3  https://www.linkedin.com/jobs-guest/jobs/api/j...  \n",
       "4  https://www.linkedin.com/jobs-guest/jobs/api/j...  "
      ]
     },
     "execution_count": 6,
     "metadata": {},
     "output_type": "execute_result"
    }
   ],
   "source": [
    "df = pd.DataFrame(job_data)\n",
    "df.head()"
   ]
  },
  {
   "cell_type": "code",
   "execution_count": null,
   "id": "35424401-65cd-43ff-ba48-9f257adbf050",
   "metadata": {},
   "outputs": [],
   "source": []
  }
 ],
 "metadata": {
  "kernelspec": {
   "display_name": "envlinkedin",
   "language": "python",
   "name": "envlinkedin"
  },
  "language_info": {
   "codemirror_mode": {
    "name": "ipython",
    "version": 3
   },
   "file_extension": ".py",
   "mimetype": "text/x-python",
   "name": "python",
   "nbconvert_exporter": "python",
   "pygments_lexer": "ipython3",
   "version": "3.11.3"
  }
 },
 "nbformat": 4,
 "nbformat_minor": 5
}
